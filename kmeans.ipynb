{
 "cells": [
  {
   "cell_type": "code",
   "execution_count": 13,
   "metadata": {},
   "outputs": [],
   "source": [
    "import json\n",
    "import numpy as np\n",
    "import pandas as pd\n",
    "from sklearn.cluster import KMeans\n",
    "from sklearn.preprocessing import StandardScaler\n",
    "import re"
   ]
  },
  {
   "cell_type": "code",
   "execution_count": 43,
   "metadata": {},
   "outputs": [
    {
     "name": "stderr",
     "output_type": "stream",
     "text": [
      "c:\\Users\\Rithuraj pokala\\AppData\\Local\\Programs\\Python\\Python310\\lib\\site-packages\\sklearn\\cluster\\_kmeans.py:1416: FutureWarning: The default value of `n_init` will change from 10 to 'auto' in 1.4. Set the value of `n_init` explicitly to suppress the warning\n",
      "  super()._check_params_vs_input(X, default_n_init=10)\n",
      "c:\\Users\\Rithuraj pokala\\AppData\\Local\\Programs\\Python\\Python310\\lib\\site-packages\\sklearn\\cluster\\_kmeans.py:1416: FutureWarning: The default value of `n_init` will change from 10 to 'auto' in 1.4. Set the value of `n_init` explicitly to suppress the warning\n",
      "  super()._check_params_vs_input(X, default_n_init=10)\n",
      "c:\\Users\\Rithuraj pokala\\AppData\\Local\\Programs\\Python\\Python310\\lib\\site-packages\\sklearn\\cluster\\_kmeans.py:1416: FutureWarning: The default value of `n_init` will change from 10 to 'auto' in 1.4. Set the value of `n_init` explicitly to suppress the warning\n",
      "  super()._check_params_vs_input(X, default_n_init=10)\n",
      "c:\\Users\\Rithuraj pokala\\AppData\\Local\\Programs\\Python\\Python310\\lib\\site-packages\\sklearn\\cluster\\_kmeans.py:1416: FutureWarning: The default value of `n_init` will change from 10 to 'auto' in 1.4. Set the value of `n_init` explicitly to suppress the warning\n",
      "  super()._check_params_vs_input(X, default_n_init=10)\n",
      "c:\\Users\\Rithuraj pokala\\AppData\\Local\\Programs\\Python\\Python310\\lib\\site-packages\\sklearn\\cluster\\_kmeans.py:1416: FutureWarning: The default value of `n_init` will change from 10 to 'auto' in 1.4. Set the value of `n_init` explicitly to suppress the warning\n",
      "  super()._check_params_vs_input(X, default_n_init=10)\n",
      "c:\\Users\\Rithuraj pokala\\AppData\\Local\\Programs\\Python\\Python310\\lib\\site-packages\\sklearn\\cluster\\_kmeans.py:1416: FutureWarning: The default value of `n_init` will change from 10 to 'auto' in 1.4. Set the value of `n_init` explicitly to suppress the warning\n",
      "  super()._check_params_vs_input(X, default_n_init=10)\n",
      "c:\\Users\\Rithuraj pokala\\AppData\\Local\\Programs\\Python\\Python310\\lib\\site-packages\\sklearn\\cluster\\_kmeans.py:1416: FutureWarning: The default value of `n_init` will change from 10 to 'auto' in 1.4. Set the value of `n_init` explicitly to suppress the warning\n",
      "  super()._check_params_vs_input(X, default_n_init=10)\n",
      "c:\\Users\\Rithuraj pokala\\AppData\\Local\\Programs\\Python\\Python310\\lib\\site-packages\\sklearn\\cluster\\_kmeans.py:1416: FutureWarning: The default value of `n_init` will change from 10 to 'auto' in 1.4. Set the value of `n_init` explicitly to suppress the warning\n",
      "  super()._check_params_vs_input(X, default_n_init=10)\n",
      "c:\\Users\\Rithuraj pokala\\AppData\\Local\\Programs\\Python\\Python310\\lib\\site-packages\\sklearn\\cluster\\_kmeans.py:1416: FutureWarning: The default value of `n_init` will change from 10 to 'auto' in 1.4. Set the value of `n_init` explicitly to suppress the warning\n",
      "  super()._check_params_vs_input(X, default_n_init=10)\n",
      "c:\\Users\\Rithuraj pokala\\AppData\\Local\\Programs\\Python\\Python310\\lib\\site-packages\\sklearn\\cluster\\_kmeans.py:1416: FutureWarning: The default value of `n_init` will change from 10 to 'auto' in 1.4. Set the value of `n_init` explicitly to suppress the warning\n",
      "  super()._check_params_vs_input(X, default_n_init=10)\n"
     ]
    },
    {
     "data": {
      "image/png": "[encoded data removed]",
      "text/plain": [
       "<Figure size 640x480 with 1 Axes>"
      ]
     },
     "metadata": {},
     "output_type": "display_data"
    }
   ],
   "source": [
    "# Function to convert DMS to decimal degrees\n",
    "def dms_to_dd(dms):\n",
    "    try:\n",
    "        degrees, minutes, seconds, direction = map(str.strip, re.split('[°′″]', dms))\n",
    "        degrees, minutes, seconds = float(degrees), float(minutes), float(seconds)\n",
    "        decimal_degrees = degrees + minutes/60 + seconds/3600\n",
    "        return decimal_degrees if direction in ['N', 'E'] else -decimal_degrees\n",
    "    except Exception as e:\n",
    "        print(f\"Error converting {dms} to decimal degrees: {e}\")\n",
    "        return np.nan  # or any other placeholder value for the problematic cases\n",
    "\n",
    "\n",
    "# Load your JSON data\n",
    "with open('location_output.json', 'r') as file:\n",
    "    data = json.load(file)\n",
    "\n",
    "# Create a DataFrame from the JSON data\n",
    "df = pd.DataFrame(data)\n",
    "\n",
    "# Convert latitude and longitude to numeric values\n",
    "df['latitude'] = df['latitude'].apply(dms_to_dd)\n",
    "df['longitude'] = df['longitude'].apply(dms_to_dd)\n",
    "\n",
    "# Extract features from the DataFrame\n",
    "features = df[['latitude', 'longitude']].values\n",
    "\n",
    "# Standardize the features\n",
    "scaler = StandardScaler()\n",
    "features_scaled = scaler.fit_transform(features)\n",
    "\n",
    "# Run KMeans for a range of k values\n",
    "inertia_values = []\n",
    "k_values = range(1, 11)\n",
    "\n",
    "for k in k_values:\n",
    "    kmeans = KMeans(n_clusters=k, random_state=42)\n",
    "    kmeans.fit(features_scaled)\n",
    "    inertia_values.append(kmeans.inertia_)\n",
    "\n",
    "# Visualize the Elbow Method to determine the optimal number of clusters (k)\n",
    "import matplotlib.pyplot as plt\n",
    "\n",
    "plt.plot(k_values, inertia_values, marker='o')\n",
    "plt.title('Elbow Method for Optimal k')\n",
    "plt.xlabel('Number of Clusters (k)')\n",
    "plt.ylabel('Inertia')\n",
    "plt.show()\n"
   ]
  },
  {
   "cell_type": "code",
   "execution_count": 30,
   "metadata": {},
   "outputs": [
    {
     "name": "stderr",
     "output_type": "stream",
     "text": [
      "c:\\Users\\Rithuraj pokala\\AppData\\Local\\Programs\\Python\\Python310\\lib\\site-packages\\sklearn\\cluster\\_kmeans.py:1416: FutureWarning: The default value of `n_init` will change from 10 to 'auto' in 1.4. Set the value of `n_init` explicitly to suppress the warning\n",
      "  super()._check_params_vs_input(X, default_n_init=10)\n"
     ]
    }
   ],
   "source": [
    "# Load the data from the JSON file\n",
    "data = pd.read_json('location_output.json')\n",
    "\n",
    "# Function to convert degrees, minutes, seconds format to decimal degrees\n",
    "def dms_to_dd(dms):\n",
    "    parts = dms.replace('\\u00b0', '').replace('\\u2032', '').replace('\\u2033', '').split()\n",
    "    direction = parts[-1]\n",
    "    degrees, minutes, seconds = map(float, parts[:-1])\n",
    "    if direction in ['S', 'W']:\n",
    "        degrees = -degrees\n",
    "    return degrees + minutes/60 + seconds/3600\n",
    "\n",
    "# Convert latitude and longitude to numeric values\n",
    "data['latitude_numeric'] = data['latitude'].apply(dms_to_dd)\n",
    "data['longitude_numeric'] = data['longitude'].apply(dms_to_dd)\n",
    "\n",
    "# Specify the number of clusters (you need to choose this based on your data)\n",
    "num_clusters = 6  # You can adjust this number\n",
    "\n",
    "# Select only the relevant columns for clustering\n",
    "coordinates = data[['latitude_numeric', 'longitude_numeric']]\n",
    "\n",
    "# Apply K-means clustering\n",
    "kmeans = KMeans(n_clusters=num_clusters, random_state=42)\n",
    "data['cluster'] = kmeans.fit_predict(coordinates)\n",
    "\n",
    "# Save the clustered data with the original latitude and longitude format to a new JSON file\n",
    "data[['name', 'popularity', 'longitude', 'latitude', 'location', 'instance', 'cluster']].to_json('clustered_data.json', orient='records')\n"
   ]
  },
  {
   "cell_type": "code",
   "execution_count": 31,
   "metadata": {},
   "outputs": [],
   "source": [
    "# Load the clustered data from the JSON file\n",
    "clustered_data = pd.read_json('clustered_data.json')\n",
    "\n",
    "# Save the clustered data to a CSV file\n",
    "clustered_data.to_csv('clustered_data.csv', index=False)\n"
   ]
  },
  {
   "cell_type": "code",
   "execution_count": 32,
   "metadata": {},
   "outputs": [],
   "source": [
    "# Add an \"images\" column with file paths\n",
    "clustered_data['images'] = [\n",
    "    f'images/{i}.jpg' for i in range(1, len(clustered_data) + 1)\n",
    "]\n",
    "\n",
    "# Save the clustered data to a CSV file\n",
    "clustered_data.to_csv('clustered_data_with_images.csv', index=False)\n"
   ]
  },
  {
   "cell_type": "code",
   "execution_count": 33,
   "metadata": {},
   "outputs": [],
   "source": [
    "input_file = 'clustered_data_with_images.csv'\n",
    "output_file = 'sorted_file.csv'\n",
    "sort_column = 'cluster' \n",
    "\n",
    "# Read CSV data into a Pandas DataFrame\n",
    "df = pd.read_csv(input_file)\n",
    "\n",
    "# Sort the DataFrame based on the specified column\n",
    "df_sorted = df.sort_values(by=sort_column)\n",
    "\n",
    "# Write the sorted DataFrame to a new CSV file\n",
    "df_sorted.to_csv(output_file, index=False)\n"
   ]
  },
  {
   "cell_type": "code",
   "execution_count": null,
   "metadata": {},
   "outputs": [],
   "source": []
  }
 ],
 "metadata": {
  "kernelspec": {
   "display_name": "Python 3",
   "language": "python",
   "name": "python3"
  },
  "language_info": {
   "codemirror_mode": {
    "name": "ipython",
    "version": 3
   },
   "file_extension": ".py",
   "mimetype": "text/x-python",
   "name": "python",
   "nbconvert_exporter": "python",
   "pygments_lexer": "ipython3",
   "version": "3.10.4"
  }
 },
 "nbformat": 4,
 "nbformat_minor": 2
}
